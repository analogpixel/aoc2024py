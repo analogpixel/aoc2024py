{
 "cells": [
  {
   "cell_type": "code",
   "execution_count": 36,
   "id": "59b7a5d1-8edc-4156-a688-101c614ad766",
   "metadata": {},
   "outputs": [
    {
     "name": "stdout",
     "output_type": "stream",
     "text": [
      "1189304\n",
      "24349736\n"
     ]
    }
   ],
   "source": [
    "import re\n",
    "\n",
    "x = []\n",
    "y = []\n",
    "\n",
    "for f in open(\"data/1.txt\"):\n",
    "    m = re.match( r\"(\\d+)\\s+(\\d+)\",f.strip())\n",
    "    x.append( int(m.group(1)))\n",
    "    y.append( int(m.group(2)))\n",
    "\n",
    "x = sorted(x)\n",
    "y = sorted(y)\n",
    "sum = 0\n",
    "sum2 = 0\n",
    "\n",
    "for i in range(0, len(x)):\n",
    "    sum +=  abs( x[i] - y[i] ) \n",
    "    sum2 += x[i] * y.count(x[i])\n",
    "    \n",
    "print(sum)\n",
    "print(sum2)"
   ]
  },
  {
   "cell_type": "code",
   "execution_count": 33,
   "id": "7bd62694-fe80-4496-be08-9506472e7ab4",
   "metadata": {},
   "outputs": [
    {
     "data": {
      "text/plain": [
       "3"
      ]
     },
     "execution_count": 33,
     "metadata": {},
     "output_type": "execute_result"
    }
   ],
   "source": [
    "y.count(3)"
   ]
  },
  {
   "cell_type": "code",
   "execution_count": 41,
   "id": "3594c6d0-e9fd-48ce-9ccd-1fbb74ee18e2",
   "metadata": {},
   "outputs": [],
   "source": [
    "with open(\"data/1_demo.txt\") as f:\n",
    "    pairs = [tuple(map(int, line.split())) for line in f]\n",
    "    "
   ]
  },
  {
   "cell_type": "code",
   "execution_count": 42,
   "id": "5133f37f-77c0-4099-a40f-5a3ef74181e2",
   "metadata": {},
   "outputs": [
    {
     "data": {
      "text/plain": [
       "[(3, 4), (4, 3), (2, 5), (1, 3), (3, 9), (3, 3)]"
      ]
     },
     "execution_count": 42,
     "metadata": {},
     "output_type": "execute_result"
    }
   ],
   "source": [
    "pairs"
   ]
  },
  {
   "cell_type": "code",
   "execution_count": null,
   "id": "b7daa43c-f93d-46f6-8767-e70961c63b4e",
   "metadata": {},
   "outputs": [],
   "source": []
  }
 ],
 "metadata": {
  "kernelspec": {
   "display_name": "Python 3 (ipykernel)",
   "language": "python",
   "name": "python3"
  },
  "language_info": {
   "codemirror_mode": {
    "name": "ipython",
    "version": 3
   },
   "file_extension": ".py",
   "mimetype": "text/x-python",
   "name": "python",
   "nbconvert_exporter": "python",
   "pygments_lexer": "ipython3",
   "version": "3.10.9"
  }
 },
 "nbformat": 4,
 "nbformat_minor": 5
}
